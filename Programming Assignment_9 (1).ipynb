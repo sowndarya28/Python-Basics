{
 "cells": [
  {
   "cell_type": "markdown",
   "id": "3776d9af",
   "metadata": {},
   "source": [
    "## Programming Assignment_9\n",
    "----------------"
   ]
  },
  {
   "cell_type": "markdown",
   "id": "b49ad359",
   "metadata": {},
   "source": [
    "### 1. Write a Python program to check if the given number is a Disarium Number?\n",
    "##### ans:"
   ]
  },
  {
   "cell_type": "code",
   "execution_count": 28,
   "id": "fa691756",
   "metadata": {},
   "outputs": [],
   "source": [
    "def task1(num):\n",
    "    k=num\n",
    "    l=[]\n",
    "\n",
    "    while(num!=0):\n",
    "        rem=num%10\n",
    "        l.append(rem)\n",
    "        num=num//10\n",
    "    l=l[::-1]\n",
    "    summ=0\n",
    "  \n",
    "    for i in range(0,len(l)):\n",
    "        summ+=l[i]**(i+1)\n",
    "     \n",
    "    if(summ==k):\n",
    "        return True\n",
    "    else:\n",
    "        return False\n",
    "        \n",
    "    \n",
    "        "
   ]
  },
  {
   "cell_type": "code",
   "execution_count": 29,
   "id": "36de51f5",
   "metadata": {},
   "outputs": [
    {
     "data": {
      "text/plain": [
       "False"
      ]
     },
     "execution_count": 29,
     "metadata": {},
     "output_type": "execute_result"
    }
   ],
   "source": [
    "task1(147)"
   ]
  },
  {
   "cell_type": "code",
   "execution_count": 30,
   "id": "651bd505",
   "metadata": {},
   "outputs": [
    {
     "data": {
      "text/plain": [
       "True"
      ]
     },
     "execution_count": 30,
     "metadata": {},
     "output_type": "execute_result"
    }
   ],
   "source": [
    "task1(135)"
   ]
  },
  {
   "cell_type": "markdown",
   "id": "9c9aa67c",
   "metadata": {},
   "source": [
    "---------------------------\n",
    "### 2. Write a Python program to print all disarium numbers between 1 to 100?\n",
    "##### ans:"
   ]
  },
  {
   "cell_type": "code",
   "execution_count": 31,
   "id": "0bae4aae",
   "metadata": {},
   "outputs": [
    {
     "name": "stdout",
     "output_type": "stream",
     "text": [
      "1 2 3 4 5 6 7 8 9 89 "
     ]
    }
   ],
   "source": [
    "for i in range(1, 101):\n",
    "    if task1(i) == True:\n",
    "        print(i, end = ' ')"
   ]
  },
  {
   "cell_type": "markdown",
   "id": "aa2959ad",
   "metadata": {},
   "source": [
    "---------------------------\n",
    "### 3. Write a Python program to check if the given number is Happy Number?\n",
    "##### ans:"
   ]
  },
  {
   "cell_type": "code",
   "execution_count": 64,
   "id": "0e23401e",
   "metadata": {},
   "outputs": [],
   "source": [
    "def task3(num):\n",
    "\n",
    "    res = num; \n",
    "    def isHappy(num):    \n",
    "        r = 0;  \n",
    "        s = 0\n",
    "        while(num > 0):    \n",
    "            r = num%10    \n",
    "            s += r**2  \n",
    "            num //= 10    \n",
    "        return s     \n",
    "\n",
    "    while(res != 1 and res != 4):    \n",
    "        res = isHappy(res)    \n",
    "\n",
    "    if(res == 1):    \n",
    "        return True\n",
    "    elif(res == 4):    \n",
    "        return False"
   ]
  },
  {
   "cell_type": "code",
   "execution_count": 65,
   "id": "1c4bf41e",
   "metadata": {},
   "outputs": [
    {
     "data": {
      "text/plain": [
       "True"
      ]
     },
     "execution_count": 65,
     "metadata": {},
     "output_type": "execute_result"
    }
   ],
   "source": [
    "task3(100)"
   ]
  },
  {
   "cell_type": "code",
   "execution_count": 66,
   "id": "c3de0471",
   "metadata": {},
   "outputs": [
    {
     "data": {
      "text/plain": [
       "False"
      ]
     },
     "execution_count": 66,
     "metadata": {},
     "output_type": "execute_result"
    }
   ],
   "source": [
    "task3(4)"
   ]
  },
  {
   "cell_type": "markdown",
   "id": "1174cec9",
   "metadata": {},
   "source": [
    "---------------------------\n",
    "### 4. Write a Python program to print all happy numbers between 1 and 100?\n",
    "##### ans:"
   ]
  },
  {
   "cell_type": "code",
   "execution_count": 68,
   "id": "c90389ea",
   "metadata": {},
   "outputs": [
    {
     "name": "stdout",
     "output_type": "stream",
     "text": [
      "1 7 10 13 19 23 28 31 32 44 49 68 70 79 82 86 91 94 97 100 "
     ]
    }
   ],
   "source": [
    "for i in range(1, 101):\n",
    "    if task3(i) == True:\n",
    "        print(i, end = ' ')"
   ]
  },
  {
   "cell_type": "markdown",
   "id": "d765ad80",
   "metadata": {},
   "source": [
    "---------------------------\n",
    "### 5. Write a Python program to determine whether the given number is a Harshad Number?\n",
    "##### ans:"
   ]
  },
  {
   "cell_type": "code",
   "execution_count": 73,
   "id": "57ba3143",
   "metadata": {},
   "outputs": [],
   "source": [
    "def task5(num):\n",
    "    k=num\n",
    "    l=[]\n",
    "\n",
    "    while(num!=0):\n",
    "        rem=num%10\n",
    "        l.append(rem)\n",
    "        num=num//10\n",
    "    summ=sum(l)\n",
    "    if k%summ==0:\n",
    "        return True\n",
    "    else:\n",
    "        return False\n",
    "    \n",
    "    "
   ]
  },
  {
   "cell_type": "code",
   "execution_count": 74,
   "id": "85f6ffc7",
   "metadata": {},
   "outputs": [
    {
     "data": {
      "text/plain": [
       "True"
      ]
     },
     "execution_count": 74,
     "metadata": {},
     "output_type": "execute_result"
    }
   ],
   "source": [
    "task5(156)"
   ]
  },
  {
   "cell_type": "code",
   "execution_count": 75,
   "id": "e2a730f9",
   "metadata": {},
   "outputs": [
    {
     "data": {
      "text/plain": [
       "False"
      ]
     },
     "execution_count": 75,
     "metadata": {},
     "output_type": "execute_result"
    }
   ],
   "source": [
    "task5(113)"
   ]
  },
  {
   "cell_type": "markdown",
   "id": "0e2dae62",
   "metadata": {},
   "source": [
    "---------------------------\n",
    "### 6. Write a Python program to print all pronic numbers between 1 and 100?\n",
    "##### ans:"
   ]
  },
  {
   "cell_type": "code",
   "execution_count": 2,
   "id": "f3ede3b3",
   "metadata": {},
   "outputs": [
    {
     "name": "stdout",
     "output_type": "stream",
     "text": [
      "2\n",
      "6\n",
      "12\n",
      "20\n",
      "30\n",
      "42\n",
      "56\n",
      "72\n",
      "90\n"
     ]
    }
   ],
   "source": [
    "i=1\n",
    "while(True):\n",
    "    prod=i*(i+1)\n",
    "    if(prod>100):\n",
    "        break\n",
    "    print(prod)    \n",
    "    i+=1"
   ]
  },
  {
   "cell_type": "code",
   "execution_count": null,
   "id": "c0782e9c",
   "metadata": {},
   "outputs": [],
   "source": []
  },
  {
   "cell_type": "code",
   "execution_count": null,
   "id": "9071241d",
   "metadata": {},
   "outputs": [],
   "source": []
  }
 ],
 "metadata": {
  "kernelspec": {
   "display_name": "Python 3 (ipykernel)",
   "language": "python",
   "name": "python3"
  },
  "language_info": {
   "codemirror_mode": {
    "name": "ipython",
    "version": 3
   },
   "file_extension": ".py",
   "mimetype": "text/x-python",
   "name": "python",
   "nbconvert_exporter": "python",
   "pygments_lexer": "ipython3",
   "version": "3.7.4"
  }
 },
 "nbformat": 4,
 "nbformat_minor": 5
}
