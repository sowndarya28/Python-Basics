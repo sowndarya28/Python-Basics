{
 "cells": [
  {
   "cell_type": "markdown",
   "metadata": {},
   "source": [
    "## Programming Assignment_4\n",
    "----------------"
   ]
  },
  {
   "cell_type": "markdown",
   "metadata": {},
   "source": [
    "### 1. Write a Python Program to Find the Factorial of a Number?\n",
    "##### Sol."
   ]
  },
  {
   "cell_type": "code",
   "execution_count": 17,
   "metadata": {},
   "outputs": [
    {
     "name": "stdout",
     "output_type": "stream",
     "text": [
      "120\n"
     ]
    }
   ],
   "source": [
    "def fact(num):\n",
    "    if(num==1):\n",
    "        return num\n",
    "    else:\n",
    "        return(num*fact(num-1))\n",
    "print(fact(5))        "
   ]
  },
  {
   "cell_type": "markdown",
   "metadata": {},
   "source": [
    "### 2. Write a Python Program to Display the multiplication Table?\n",
    "##### Sol."
   ]
  },
  {
   "cell_type": "code",
   "execution_count": 30,
   "metadata": {},
   "outputs": [
    {
     "name": "stdout",
     "output_type": "stream",
     "text": [
      "5\n",
      "5  x  1  =  5\n",
      "5  x  2  =  10\n",
      "5  x  3  =  15\n",
      "5  x  4  =  20\n",
      "5  x  5  =  25\n",
      "5  x  6  =  30\n",
      "5  x  7  =  35\n",
      "5  x  8  =  40\n",
      "5  x  9  =  45\n",
      "5  x  10  =  50\n"
     ]
    }
   ],
   "source": [
    "n=int(input())\n",
    "for i in range(1,11):\n",
    "    print(n,\" x \",i,\" = \",n*i)"
   ]
  },
  {
   "cell_type": "markdown",
   "metadata": {},
   "source": [
    "### 3. Write a Python Program to Print the Fibonacci sequence?\n",
    "##### Sol."
   ]
  },
  {
   "cell_type": "code",
   "execution_count": 29,
   "metadata": {},
   "outputs": [
    {
     "name": "stdout",
     "output_type": "stream",
     "text": [
      "[0, 1, 1, 2, 3, 5, 8, 13, 21, 34, 55]\n"
     ]
    }
   ],
   "source": [
    "def fib(num):\n",
    "    lis=[]\n",
    "    lis.append(0)\n",
    "    lis.append(1)\n",
    "    while(len(lis)<num):\n",
    "        lis.append(lis[-1]+lis[-2])\n",
    "    return lis    \n",
    "        \n",
    "       \n",
    "print(fib(11))       "
   ]
  },
  {
   "cell_type": "markdown",
   "metadata": {},
   "source": [
    "### 4. Write a Python Program to Check Armstrong Number?\n",
    "##### Sol. "
   ]
  },
  {
   "cell_type": "code",
   "execution_count": 23,
   "metadata": {},
   "outputs": [
    {
     "data": {
      "text/plain": [
       "False"
      ]
     },
     "execution_count": 23,
     "metadata": {},
     "output_type": "execute_result"
    }
   ],
   "source": [
    "def isarmstrong(n):\n",
    "    \"\"\"checks if armstrong\"\"\"\n",
    "    lis=[]\n",
    "    j=n\n",
    "    while(n!=0):\n",
    "        rem=n%10\n",
    "        lis.append(rem)\n",
    "        n=n//10\n",
    "    summ=0\n",
    "    for i in lis:\n",
    "        summ=summ+pow(i,3) \n",
    "    if(summ==j):\n",
    "        return True\n",
    "    else:\n",
    "        return False\n",
    "isarmstrong(171)    "
   ]
  },
  {
   "cell_type": "markdown",
   "metadata": {},
   "source": [
    "### 5. Write a Python Program to Find Armstrong Number in an Interval?\n",
    "##### Sol."
   ]
  },
  {
   "cell_type": "code",
   "execution_count": 25,
   "metadata": {},
   "outputs": [
    {
     "name": "stdout",
     "output_type": "stream",
     "text": [
      "700\n",
      "[0, 1, 153, 370, 371, 407]\n"
     ]
    }
   ],
   "source": [
    "lis=[]\n",
    "n=int(input())\n",
    "for i in range(0,n):\n",
    "    if(isarmstrong(i)):\n",
    "        lis.append(i)\n",
    "print(lis)        \n"
   ]
  },
  {
   "cell_type": "markdown",
   "metadata": {},
   "source": [
    "### 6. Write a Python Program to Find the Sum of Natural Numbers?\n",
    "##### Sol."
   ]
  },
  {
   "cell_type": "code",
   "execution_count": 26,
   "metadata": {},
   "outputs": [
    {
     "name": "stdout",
     "output_type": "stream",
     "text": [
      "5\n",
      "15\n"
     ]
    }
   ],
   "source": [
    "n=int(input())\n",
    "print(n*(n+1)//2) "
   ]
  },
  {
   "cell_type": "code",
   "execution_count": null,
   "metadata": {},
   "outputs": [],
   "source": []
  }
 ],
 "metadata": {
  "kernelspec": {
   "display_name": "Python 3",
   "language": "python",
   "name": "python3"
  },
  "language_info": {
   "codemirror_mode": {
    "name": "ipython",
    "version": 3
   },
   "file_extension": ".py",
   "mimetype": "text/x-python",
   "name": "python",
   "nbconvert_exporter": "python",
   "pygments_lexer": "ipython3",
   "version": "3.7.4"
  }
 },
 "nbformat": 4,
 "nbformat_minor": 5
}
