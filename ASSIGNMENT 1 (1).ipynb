{
 "cells": [
  {
   "cell_type": "markdown",
   "metadata": {},
   "source": [
    "Q1. Why do we call Python as a general purpose and high-level programming language?\n",
    "\n",
    "Python has a higher level of abstraction from the computer, and focuses more on the programming logic rather than the underlying hardware components such as memory addressing and register utilization. It is a more user friendly language. The synatax is easier to learn implement and understand. Hence it is called as general purpose and high-level programming language.\n",
    "\n",
    "Q2. Why is Python called a dynamically typed language?\n",
    "\n",
    "Python does not have any problem even if we don't declare the type of variable. It states the kind of variable in the runtime of the program. Python also take cares of the memory management which is crucial in programming. So, Python is a dynamically typed language.\n",
    "\n",
    "Q3. List some pros and cons of Python programming language?\n",
    "\n",
    "Pros\n",
    "\n",
    "a) Beginner-Friendly \n",
    "Python is an excellent platform for beginners who want to step into coding. This programming language is easy to learn, understand and code as it does not include too many technicalities\n",
    "\n",
    "b) Extensive Libraries \n",
    "Python features an extensive set of libraries and contains code for various purposes like documentation-generation, regular expressions, web-browsers, unit-testing, CGI, databases, image manipulation, etc. Hence, it eliminates the need to write the complete code manually.\n",
    "\n",
    "c)IOT Opportunities\n",
    "Since Python forms the basis of new platforms like Raspberry Pi, it finds the future bright for the Internet Of Things.\n",
    "\n",
    "d)Machine Learning\n",
    "Python is an excellent choice when your business needs web projects to be integrated with Machine Learning algorithms. Web Projects that require Python use it because it provides rich libraries, making it easier for the developers to work with data.\n",
    "\n",
    "Cons\n",
    "\n",
    "a)Slower than Compiled Languages\n",
    "Python is slow compared to other non-compiled languages as it requires a lot of computational power. So, this is the thing that you need to look at before choosing Python.\n",
    "\n",
    "b)Python’s Memory Consumption and Garbage Collection\n",
    "Python language comes with high memory usage, and the high memory consumption should be tackled carefully during the project. It uses reference counting in its garbage collection, which often leads to potential memory losses.\n",
    "\n",
    "c)Python is Dynamically Typed\n",
    "Developers working in Data Science and Machine Learning projects prefer statically-typed language over dynamically typed language. The reason is that the statically typed language potentially minimizes a lot of errors and bugs in the system.\n",
    "\n",
    "Q4. In what all domains can we use Python?\n",
    "\n",
    "Machine learning / Artificial intelligence\n",
    "Desktop GUI\n",
    "Data analytics and data visualization \n",
    "Web development\n",
    "Game development\n",
    "Mobile app development\n",
    "Embedded systems\n",
    "\n",
    "Q5. What are variable and how can we declare them?\n",
    "\n",
    " Variables are the basic unit of storage in a programming language. These variables consist of a data type, the variable name, and the value to be assigned to the variable.\n",
    " \n",
    "Python has no command for declaring a variable. A variable is created the moment you first assign a value to it.\n",
    "\n",
    "Q6. How can we take an input from the user in Python?\n",
    "Input can be taken from thr user by using the function 'input()'. It needs to be type casted to required type.\n",
    "\n",
    "Q7. What is the default datatype of the value that has been taken as an input using input() function?\n",
    "String\n",
    "\n",
    "Q8. What is type casting?\n",
    "\n",
    "When we convert one data type to another its called type casting.\n",
    "\n",
    "Q9. Can we take more than one input from the user using single input() function? If yes, how? If no, why?\n",
    "\n",
    "Yes we can.\n",
    "Using List Comprehension\n",
    "Taking multiple inputs in a single line  and type casting using list() function.\n",
    "x = list(map(int, input(\"Enter multiple values: \"). split()))\n",
    "print(\"List of students: \", x)\n",
    "\n",
    "Q10. What are keywords?\n",
    "\n",
    "Keywords are reserved words in Python that are used to trigger specific tasks.\n",
    "\n",
    "Q11. Can we use keywords as a variable? Support your answer with reason.\n",
    "\n",
    "We cannot use a keyword as a variable name, function name, or any other identifier since these keywords each hold a special meaning.\n",
    "\n",
    "Q12. What is indentation? What's the use of indentaion in Python?\n",
    "\n",
    "Indentation refers to the spaces at the beginning of a code line. Where as in other programming languages the indentation in code is for readability only, the indentation in Python is very important. Python uses indentation to indicate a block of code.\n",
    "\n",
    "Q13. How can we throw some output in Python?\n",
    "\n",
    "using print\n",
    "\n",
    "Q14. What are operators in Python?\n",
    "\n",
    "An operator in Python is a character that tells the compiler to perform a specific task on the quantity operand.\n",
    "\n",
    "Q15. What is difference between / and // operators?\n",
    "\n",
    "both are division operators\n",
    "\n",
    "/ - returns floating value if quoient is a decimal\n",
    "\n",
    "// - returns integer value even if quoient is a decimal\n",
    "\n",
    "\n",
    "Q18. What are boolean operator?\n",
    "\n",
    "They return true or false after evaluating a expression.\n",
    "\n",
    "Q20. What are conditional statements in Python?\n",
    "\n",
    "A conditional statement as the name suggests itself, is used to handle conditions in your program.\n",
    "\n",
    "Q21. What is use of 'if', 'elif' and 'else' keywords?\n",
    "\n",
    "Conditional statements guide the program while making decisions based on the conditions encountered by the program.'if', 'elif' and 'else' keywords are used for this purpose\n",
    "\n",
    "\n",
    "\n"
   ]
  },
  {
   "cell_type": "markdown",
   "metadata": {},
   "source": [
    "# Q16. Write a code that gives following as an output.\n",
    "\n",
    "iNeuroniNeuroniNeuroniNeuron\n"
   ]
  },
  {
   "cell_type": "code",
   "execution_count": 1,
   "metadata": {},
   "outputs": [
    {
     "data": {
      "text/plain": [
       "'iNeuroniNeuroniNeuron'"
      ]
     },
     "execution_count": 1,
     "metadata": {},
     "output_type": "execute_result"
    }
   ],
   "source": [
    "def strmul(val):\n",
    "    \"\"\"string multiplication thrice\"\"\"\n",
    "    return val*3\n",
    "strmul(\"iNeuron\")"
   ]
  },
  {
   "cell_type": "markdown",
   "metadata": {},
   "source": [
    "# Q17. Write a code to take a number as an input from the user and check if the number is odd or even."
   ]
  },
  {
   "cell_type": "code",
   "execution_count": 2,
   "metadata": {},
   "outputs": [
    {
     "data": {
      "text/plain": [
       "'The given number is even'"
      ]
     },
     "execution_count": 2,
     "metadata": {},
     "output_type": "execute_result"
    }
   ],
   "source": [
    "def oddeve(val):\n",
    "    \"\"\"code to check if number is odd or even\"\"\"\n",
    "    if(val%2==0):\n",
    "        return (\"The given number is even\")\n",
    "    else:\n",
    "        return(\" The given number is odd\")\n",
    "oddeve(2)"
   ]
  },
  {
   "cell_type": "markdown",
   "metadata": {},
   "source": [
    "# Q22. Write a code to take the age of person as an input and if age >= 18 display \"I can vote\". If age is < 18 display \"I can't vote\".\n",
    "\n"
   ]
  },
  {
   "cell_type": "code",
   "execution_count": 3,
   "metadata": {},
   "outputs": [
    {
     "data": {
      "text/plain": [
       "'I can vote'"
      ]
     },
     "execution_count": 3,
     "metadata": {},
     "output_type": "execute_result"
    }
   ],
   "source": [
    "def if18(val):\n",
    "    \"\"\"checks if value of age is greater or lesser than 18\"\"\"\n",
    "    if(val>=18):\n",
    "        return (\"I can vote\")\n",
    "    else:\n",
    "        return(\"I can't vote\")\n",
    "if18(29)"
   ]
  },
  {
   "cell_type": "markdown",
   "metadata": {},
   "source": [
    "# Q23. Write a code that displays the sum of all the even numbers from the given list.\n",
    "\n",
    "numbers = [12, 75, 150, 180, 145, 525, 50]"
   ]
  },
  {
   "cell_type": "code",
   "execution_count": 4,
   "metadata": {},
   "outputs": [
    {
     "data": {
      "text/plain": [
       "392"
      ]
     },
     "execution_count": 4,
     "metadata": {},
     "output_type": "execute_result"
    }
   ],
   "source": [
    "def lisSum(lis):\n",
    "    \"\"\"displays sum of even numbers in list\"\"\"\n",
    "    g=[]\n",
    "    for i in lis:\n",
    "        if(i%2==0):\n",
    "            g.append(i)\n",
    "            \n",
    "    return sum(g)\n",
    "lisSum( [12, 75, 150, 180, 145, 525, 50])"
   ]
  },
  {
   "cell_type": "markdown",
   "metadata": {},
   "source": [
    "# Q24. Write a code to take 3 numbers as an input from the user and display the greatest no as output."
   ]
  },
  {
   "cell_type": "code",
   "execution_count": 7,
   "metadata": {},
   "outputs": [
    {
     "name": "stdout",
     "output_type": "stream",
     "text": [
      "Enter first number: 2\n",
      "Enter second number: 3\n",
      "Enter third number: 4\n",
      "4\n"
     ]
    }
   ],
   "source": [
    "a=int(input(\"Enter first number: \"))\n",
    "b=int(input(\"Enter second number: \"))\n",
    "c=int(input(\"Enter third number: \"))\n",
    "print(max([a,b,c]))\n"
   ]
  },
  {
   "cell_type": "markdown",
   "metadata": {},
   "source": [
    "# Q25. Write a program to display only those numbers from a list that satisfy the following conditions\n",
    "\n",
    "The number must be divisible by five\n",
    "\n",
    "If the number is greater than 150, then skip it and move to the next number\n",
    "\n",
    "If the number is greater than 500, then stop the loop\n",
    "\n",
    "numbers = [12, 75, 150, 180, 145, 525, 50]"
   ]
  },
  {
   "cell_type": "code",
   "execution_count": 8,
   "metadata": {},
   "outputs": [
    {
     "data": {
      "text/plain": [
       "[55]"
      ]
     },
     "execution_count": 8,
     "metadata": {},
     "output_type": "execute_result"
    }
   ],
   "source": [
    "def num(lis):\n",
    "    \"\"\"filter function\"\"\"\n",
    "    g=[]\n",
    "    for i in lis:\n",
    "        if(i>500):\n",
    "            return g\n",
    "        if(i<150 and i%5==0):\n",
    "            g.append(i)\n",
    "    return g        \n",
    "num([1,2,3,4,55,600,65])            "
   ]
  },
  {
   "cell_type": "markdown",
   "metadata": {},
   "source": [
    "# Q19. What will the output of the following?\n",
    "```\n",
    "1 or 0\n",
    "\n",
    "0 and 0\n",
    "\n",
    "True and False and True\n",
    "\n",
    "1 or 0 or 0"
   ]
  },
  {
   "cell_type": "code",
   "execution_count": 9,
   "metadata": {},
   "outputs": [
    {
     "data": {
      "text/plain": [
       "1"
      ]
     },
     "execution_count": 9,
     "metadata": {},
     "output_type": "execute_result"
    }
   ],
   "source": [
    "1 or 0"
   ]
  },
  {
   "cell_type": "code",
   "execution_count": 10,
   "metadata": {},
   "outputs": [
    {
     "data": {
      "text/plain": [
       "0"
      ]
     },
     "execution_count": 10,
     "metadata": {},
     "output_type": "execute_result"
    }
   ],
   "source": [
    "0 and 0"
   ]
  },
  {
   "cell_type": "code",
   "execution_count": 11,
   "metadata": {},
   "outputs": [
    {
     "data": {
      "text/plain": [
       "False"
      ]
     },
     "execution_count": 11,
     "metadata": {},
     "output_type": "execute_result"
    }
   ],
   "source": [
    "True and False and True"
   ]
  },
  {
   "cell_type": "code",
   "execution_count": 12,
   "metadata": {},
   "outputs": [
    {
     "data": {
      "text/plain": [
       "1"
      ]
     },
     "execution_count": 12,
     "metadata": {},
     "output_type": "execute_result"
    }
   ],
   "source": [
    "1 or 0 or 0"
   ]
  },
  {
   "cell_type": "markdown",
   "metadata": {},
   "source": [
    "Q26. What is a string? How can we declare string in Python?\n",
    "\n",
    "Strings are defined as an array of characters.\n",
    "Strings can be declared in pythob by enclosing characters inside a single quote or double-quotes. Even triple quotes can be used in Python but generally used to represent multiline strings and docstrings.\n",
    "\n",
    "Q27. How can we access the string using its index?\n",
    "\n",
    "Individual characters in a string can be accessed by specifying the string name followed by their index in square brackets "
   ]
  },
  {
   "cell_type": "markdown",
   "metadata": {},
   "source": [
    "# Q28. Write a code to get the desired output of the following\n",
    "```\n",
    "string = \"Big Data iNeuron\"\n",
    "desired_output = \"iNeuron\"\n",
    "```\n",
    "\n"
   ]
  },
  {
   "cell_type": "code",
   "execution_count": 13,
   "metadata": {},
   "outputs": [
    {
     "name": "stdout",
     "output_type": "stream",
     "text": [
      "iNeuron\n"
     ]
    }
   ],
   "source": [
    "string = \"Big Data iNeuron\"\n",
    "print(string[9:])"
   ]
  },
  {
   "cell_type": "markdown",
   "metadata": {},
   "source": [
    "# Q29. Write a code to get the desired output of the following\n",
    "```\n",
    "string = \"Big Data iNeuron\"\n",
    "desired_output = \"norueNi\""
   ]
  },
  {
   "cell_type": "code",
   "execution_count": 14,
   "metadata": {},
   "outputs": [
    {
     "name": "stdout",
     "output_type": "stream",
     "text": [
      "norueNi\n"
     ]
    }
   ],
   "source": [
    "string = \"Big Data iNeuron\"\n",
    "word= string[9:]\n",
    "print(word[::-1])"
   ]
  },
  {
   "cell_type": "markdown",
   "metadata": {},
   "source": [
    "# Q30. Resverse the string given in the above question"
   ]
  },
  {
   "cell_type": "code",
   "execution_count": 15,
   "metadata": {},
   "outputs": [
    {
     "name": "stdout",
     "output_type": "stream",
     "text": [
      "norueNi ataD giB\n"
     ]
    }
   ],
   "source": [
    "word = \"Big Data iNeuron\"\n",
    "print(word[::-1])\n"
   ]
  },
  {
   "cell_type": "markdown",
   "metadata": {},
   "source": [
    "Q31. How can you delete entire string at once?\n",
    "This can be done by using keyword del.\n",
    "\n",
    "Q32. What is escape sequence?\n",
    "An escape sequence is a sequence of characters that, when used inside a character or string, does not represent itself but is converted into another character or series of characters"
   ]
  },
  {
   "cell_type": "markdown",
   "metadata": {},
   "source": [
    "# Q33. How can you print the below string?\n",
    "```\n",
    "'iNeuron's Big Data Course'\n",
    "```"
   ]
  },
  {
   "cell_type": "code",
   "execution_count": 16,
   "metadata": {},
   "outputs": [
    {
     "name": "stdout",
     "output_type": "stream",
     "text": [
      "iNeuron's Big Data Course\n"
     ]
    }
   ],
   "source": [
    "print(\"iNeuron's Big Data Course\")"
   ]
  },
  {
   "cell_type": "markdown",
   "metadata": {},
   "source": [
    "Q34. What is a list in Python?\n",
    "\n",
    " Lists are used to store multiple items in a single variable. Lists are one of 4 built-in data types in Python used to store collections of data, the other 3 are Tuple, Set, and Dictionary, all with different qualities and usage.\n",
    "\n",
    "Q35. How can you create a list in Python?\n",
    "\n",
    "In Python, a list is created by placing elements inside square brackets [] , separated by commas. \n",
    "\n",
    "\n",
    "Q36. How can we access the elements in a list?\n",
    "\n",
    "Elements in a list can be accessed through indexing.\n"
   ]
  },
  {
   "cell_type": "markdown",
   "metadata": {},
   "source": [
    "# Q37. Write a code to access the word \"iNeuron\" from the given list.\n",
    "```\n",
    "lst = [1,2,3,\"Hi\",[45,54, \"iNeuron\"], \"Big Data\"]"
   ]
  },
  {
   "cell_type": "code",
   "execution_count": 17,
   "metadata": {},
   "outputs": [
    {
     "data": {
      "text/plain": [
       "'iNeuron'"
      ]
     },
     "execution_count": 17,
     "metadata": {},
     "output_type": "execute_result"
    }
   ],
   "source": [
    "lst = [1,2,3,\"Hi\",[45,54, \"iNeuron\"], \"Big Data\"]\n",
    "lst[4][2]"
   ]
  },
  {
   "cell_type": "markdown",
   "metadata": {},
   "source": [
    "# Q38. Take a list as an input from the user and find the length of the list."
   ]
  },
  {
   "cell_type": "code",
   "execution_count": 67,
   "metadata": {},
   "outputs": [
    {
     "name": "stdout",
     "output_type": "stream",
     "text": [
      "[1,2,3,4]\n",
      "4\n"
     ]
    }
   ],
   "source": [
    "q=input()\n",
    "p=q.split(\",\")\n",
    "c=0\n",
    "print(len(p))    "
   ]
  },
  {
   "cell_type": "markdown",
   "metadata": {},
   "source": [
    "# Q39. Add the word \"Big\" in the 3rd index of the given list.\n",
    "```\n",
    "lst = [\"Welcome\", \"to\", \"Data\", \"course\"]\n",
    "```"
   ]
  },
  {
   "cell_type": "code",
   "execution_count": 19,
   "metadata": {},
   "outputs": [
    {
     "data": {
      "text/plain": [
       "['Welcome', 'to', 'Data', 'big', 'course']"
      ]
     },
     "execution_count": 19,
     "metadata": {},
     "output_type": "execute_result"
    }
   ],
   "source": [
    "lst = [\"Welcome\", \"to\", \"Data\", \"course\"]\n",
    "lst.insert(3,\"big\")\n",
    "\n",
    "lst"
   ]
  },
  {
   "cell_type": "markdown",
   "metadata": {},
   "source": [
    "Q40. What is a tuple? How is it different from list\n",
    "\n",
    "There are 2 main differences:\n",
    "\n",
    "1) we use square are to indicate list and round brackets to indicate tuple\n",
    "\n",
    "2) lists are mutable and tuples are immutable"
   ]
  },
  {
   "cell_type": "markdown",
   "metadata": {},
   "source": [
    "Q41. How can you create a tuple in Python?\n",
    "\n",
    "In Python, a list is created by placing elements inside square brackets () , separated by commas.\n",
    "\n",
    "Q42. Create a tuple and try to add your name in the tuple. Are you able to do it? Support your answer with reason.\n",
    "\n",
    "Since tuples are immutable we will not be able to add or delete items from it.\n",
    "\n"
   ]
  },
  {
   "cell_type": "markdown",
   "metadata": {},
   "source": [
    "# Q43. Can two tuple be appended. If yes, write a code for it. If not, why?"
   ]
  },
  {
   "cell_type": "code",
   "execution_count": 20,
   "metadata": {},
   "outputs": [
    {
     "data": {
      "text/plain": [
       "(2, 3, 4, 5, 1, 2, 3, 4)"
      ]
     },
     "execution_count": 20,
     "metadata": {},
     "output_type": "execute_result"
    }
   ],
   "source": [
    "q=(1,2,3,4)\n",
    "p=(2,3,4,5)\n",
    "p+q"
   ]
  },
  {
   "cell_type": "markdown",
   "metadata": {},
   "source": [
    "# Q44. Take a tuple as an input and print the count of elements in it"
   ]
  },
  {
   "cell_type": "code",
   "execution_count": 21,
   "metadata": {},
   "outputs": [
    {
     "name": "stdout",
     "output_type": "stream",
     "text": [
      "3\n"
     ]
    }
   ],
   "source": [
    "def findlen(k):\n",
    "    \"\"\"finds length\"\"\"\n",
    "    print(len(k))\n",
    "findlen((1,4,3))"
   ]
  },
  {
   "cell_type": "markdown",
   "metadata": {},
   "source": [
    "Q45. What are sets in Python?\n",
    "\n",
    "A set is an unordered collection of items. Every set element is unique (no duplicates) and must be immutable (cannot be changed).\n",
    "\n",
    "Q46. How can you create a set?\n",
    "\n",
    "A set is created by placing all the items (elements) inside curly braces {} , separated by comma, or by using the built-in set() function.\n",
    "\n",
    "\n"
   ]
  },
  {
   "cell_type": "markdown",
   "metadata": {},
   "source": [
    "# Q47. Create a set and add \"iNeuron\" in your set.\n",
    "\n"
   ]
  },
  {
   "cell_type": "code",
   "execution_count": 22,
   "metadata": {},
   "outputs": [
    {
     "data": {
      "text/plain": [
       "{'iNeuron'}"
      ]
     },
     "execution_count": 22,
     "metadata": {},
     "output_type": "execute_result"
    }
   ],
   "source": [
    "j=set()\n",
    "j.add(\"iNeuron\")\n",
    "j"
   ]
  },
  {
   "cell_type": "markdown",
   "metadata": {},
   "source": [
    "# Q48. Try to add multiple values using add() function.\n",
    "\n",
    " To add a single value we use add function, to add multiple values we use append function. \n"
   ]
  },
  {
   "cell_type": "code",
   "execution_count": 23,
   "metadata": {},
   "outputs": [
    {
     "data": {
      "text/plain": [
       "{'hello', 'yes'}"
      ]
     },
     "execution_count": 23,
     "metadata": {},
     "output_type": "execute_result"
    }
   ],
   "source": [
    "j=set()\n",
    "j.update({\"hello\",\"yes\"})\n",
    "j"
   ]
  },
  {
   "cell_type": "markdown",
   "metadata": {},
   "source": [
    "Q49. How is update() different from add()?\n",
    "\n",
    "To add a single value we use add function, to add multiple values we use append function.\n",
    "\n",
    "\n"
   ]
  },
  {
   "cell_type": "markdown",
   "metadata": {},
   "source": [
    "Q50. What is clear() in sets?\n",
    "\n",
    "The clear() method removes all the elements from a list."
   ]
  },
  {
   "cell_type": "code",
   "execution_count": 24,
   "metadata": {},
   "outputs": [
    {
     "data": {
      "text/plain": [
       "set()"
      ]
     },
     "execution_count": 24,
     "metadata": {},
     "output_type": "execute_result"
    }
   ],
   "source": [
    "j={\"hello\",\"hi\"}\n",
    "j.clear()\n",
    "j"
   ]
  },
  {
   "cell_type": "markdown",
   "metadata": {},
   "source": [
    "Q51. What is frozen set?\n",
    "\n",
    "The frozenset() function returns an unchangeable frozenset object (which is like a set object, only unchangeable).\n",
    "\n",
    "Q52. How is frozen set different from set?\n",
    "\n",
    "Frozen set is just an immutable version of a Python set object. While elements of a set can be modified at any time, elements of the frozen set remain the same after creation\n",
    "\n",
    "\n"
   ]
  },
  {
   "cell_type": "markdown",
   "metadata": {},
   "source": [
    "# Q53. What is union() in sets? Explain via code.\n",
    "\n",
    "Returns a set, which has the union of all sets(set1, set2, set3…) with set1. It returns a copy of set1 only if no parameter is passed."
   ]
  },
  {
   "cell_type": "code",
   "execution_count": 25,
   "metadata": {},
   "outputs": [
    {
     "name": "stdout",
     "output_type": "stream",
     "text": [
      "{1, 2, 3, 4, 5, 6, 7, 8}\n"
     ]
    }
   ],
   "source": [
    "set1={1,2,3,4}\n",
    "set2={5,6,7,8}\n",
    "print(set1|set2)"
   ]
  },
  {
   "cell_type": "markdown",
   "metadata": {},
   "source": [
    "# Q54. What is intersection() in sets? Explain via code.\n",
    "\n",
    "The intersection() method returns a set that contains the similarity between two or more sets."
   ]
  },
  {
   "cell_type": "code",
   "execution_count": 26,
   "metadata": {},
   "outputs": [
    {
     "data": {
      "text/plain": [
       "{3}"
      ]
     },
     "execution_count": 26,
     "metadata": {},
     "output_type": "execute_result"
    }
   ],
   "source": [
    "set1={1,2,3}\n",
    "set2={3,4,5,6}\n",
    "set3={3,4,1,0}\n",
    "set1.intersection(set2,set3)"
   ]
  },
  {
   "cell_type": "markdown",
   "metadata": {},
   "source": [
    "Q55. What is dictionary in Python?\n",
    "A dictionary is a data structure used to store data which are in the form of key value pair.\n",
    "\n",
    "\n",
    "Q56. How is dictionary different from all other data structures.\n",
    "\n",
    "Dictionaries are used to store data values in key:value pairs.\n",
    "A dictionary is a collection which is ordered, changeable and do not allow duplicates.\n",
    "\n",
    "Q57. How can we delare a dictionary in Python?\n",
    "\n",
    "In Python, a dictionary can be created by placing a sequence of elements within curly {} braces, separated by ‘comma’. Dictionary holds pairs of values, one being the Key and the other corresponding pair element being its Key:value. \n",
    "\n"
   ]
  },
  {
   "cell_type": "markdown",
   "metadata": {},
   "source": [
    "# Q58. What will the output of the following?\n",
    "```\n",
    "var = {}\n",
    "print(type(var))\n",
    "```"
   ]
  },
  {
   "cell_type": "code",
   "execution_count": 27,
   "metadata": {},
   "outputs": [
    {
     "name": "stdout",
     "output_type": "stream",
     "text": [
      "<class 'dict'>\n"
     ]
    }
   ],
   "source": [
    "var = {}\n",
    "print(type(var))"
   ]
  },
  {
   "cell_type": "markdown",
   "metadata": {},
   "source": [
    "Q59. How can we add an element in a dictionary?\n",
    "\n",
    "Add new keys using the Subscript notation\n"
   ]
  },
  {
   "cell_type": "code",
   "execution_count": 29,
   "metadata": {},
   "outputs": [
    {
     "name": "stdout",
     "output_type": "stream",
     "text": [
      "Updated Dict is: {'Sowndarya': 'Subramanian', 'Suchithra': 'Thangam'}\n"
     ]
    }
   ],
   "source": [
    "dict = { 'Sowndarya': 'Subramanian'}\n",
    "\n",
    "dict['Suchithra'] = 'Thangam'\n",
    "print(\"Updated Dict is:\"\n",
    "  , dict)"
   ]
  },
  {
   "cell_type": "markdown",
   "metadata": {},
   "source": [
    "# Q60. Create a dictionary and access all the values in that dictionary."
   ]
  },
  {
   "cell_type": "code",
   "execution_count": 30,
   "metadata": {},
   "outputs": [
    {
     "data": {
      "text/plain": [
       "dict_values(['Subramanian', 'Thangam'])"
      ]
     },
     "execution_count": 30,
     "metadata": {},
     "output_type": "execute_result"
    }
   ],
   "source": [
    "newdict = {'Sowndarya': 'Subramanian', 'Suchithra': 'Thangam'}\n",
    "newdict.values()"
   ]
  },
  {
   "cell_type": "markdown",
   "metadata": {},
   "source": [
    "# Q61. Create a nested dictionary and access all the element in the inner dictionary.\n",
    "\n",
    "\n"
   ]
  },
  {
   "cell_type": "code",
   "execution_count": 31,
   "metadata": {},
   "outputs": [
    {
     "name": "stdout",
     "output_type": "stream",
     "text": [
      "John\n",
      "27\n",
      "Male\n"
     ]
    }
   ],
   "source": [
    "people = {1: {'name': 'John', 'age': '27', 'gender': 'Male'},\n",
    "          2: {'name': 'Marie', 'age': '22', 'gender': 'Female'}}\n",
    "\n",
    "print(people[1]['name'])\n",
    "print(people[1]['age'])\n",
    "print(people[1]['gender'])\n"
   ]
  },
  {
   "cell_type": "markdown",
   "metadata": {},
   "source": [
    "Q62. What is the use of get() function?\n",
    "\n",
    "The get() method returns the value of the item with the specified key\n"
   ]
  },
  {
   "cell_type": "code",
   "execution_count": 32,
   "metadata": {},
   "outputs": [
    {
     "name": "stdout",
     "output_type": "stream",
     "text": [
      "Ford\n"
     ]
    }
   ],
   "source": [
    "car = {\n",
    "  \"brand\": \"Ford\",\n",
    "  \"model\": \"Mustang\",\n",
    "  \"year\": 1964\n",
    "}\n",
    "\n",
    "x = car.get(\"brand\")\n",
    "\n",
    "print(x)"
   ]
  },
  {
   "cell_type": "markdown",
   "metadata": {},
   "source": [
    "Q63. What is the use of items() function?\n",
    "\n",
    "The items() method returns a view object. The view object contains the key-value pairs of the dictionary, as tuples in a list."
   ]
  },
  {
   "cell_type": "code",
   "execution_count": 33,
   "metadata": {},
   "outputs": [
    {
     "name": "stdout",
     "output_type": "stream",
     "text": [
      "dict_items([('brand', 'Ford'), ('model', 'Mustang'), ('year', 1964)])\n"
     ]
    }
   ],
   "source": [
    "car = {\n",
    "  \"brand\": \"Ford\",\n",
    "  \"model\": \"Mustang\",\n",
    "  \"year\": 1964\n",
    "}\n",
    "\n",
    "x = car.items()\n",
    "\n",
    "print(x)"
   ]
  },
  {
   "cell_type": "markdown",
   "metadata": {},
   "source": [
    "# Q64. What is the use of pop() function?\n",
    "\n"
   ]
  },
  {
   "cell_type": "markdown",
   "metadata": {},
   "source": [
    "The pop() method pops the value of the particaular key given in dictionary"
   ]
  },
  {
   "cell_type": "code",
   "execution_count": 34,
   "metadata": {},
   "outputs": [
    {
     "data": {
      "text/plain": [
       "'Mustang'"
      ]
     },
     "execution_count": 34,
     "metadata": {},
     "output_type": "execute_result"
    }
   ],
   "source": [
    "car = {\n",
    "  \"brand\": \"Ford\",\n",
    "  \"model\": \"Mustang\",\n",
    "  \"year\": 1964\n",
    "}\n",
    "\n",
    "car.pop(\"model\")\n"
   ]
  },
  {
   "cell_type": "markdown",
   "metadata": {},
   "source": [
    "Q65. What is the use of popitems() function?\n",
    "The popitem() method removes the item that was last inserted into the dictionary\n",
    "\n",
    "Q66. What is the use of keys() function?\n",
    "\n",
    "This function returns all keys of dictionary. \n",
    "\n",
    "Q67. What is the use of values() function?\n",
    "\n",
    "this function returns all values of dictionary.\n",
    "\n",
    "Q68. What are loops in Python?\n",
    "\n",
    "Looping means repeating something over and over until a particular condition is satisfied. A for loop in Python is a control flow statement that is used to repeatedly execute a group of statements as long as the condition is satisfied. Such a type of statement is also known as an iterative statement.\n",
    "\n",
    "Q69. How many type of loop are there in Python?\n",
    "\n",
    "2 types of loops are there in python.\n",
    "\n",
    "Q70. What is the difference between for and while loops?\n",
    "\n",
    "For loop is used when we know the number of iterations that needs to be performed and while loop is used when we dont know the exact number of iterations but we know the trtminating condition.\n",
    "\n",
    "Q71. What is the use of continue statement?\n",
    "\n",
    "A continue statement ends the current iteration of a loop. Program control is passed from the continue statement to the end of the loop body. A continue statement can only appear within the body of an iterative statement, such as for or while .\n",
    "\n",
    "Q72. What is the use of break statement?\n",
    "\n",
    "The break keyword is used to break out a for loop, a while loop or a switch block.\n",
    "\n",
    "\n",
    "Q73. What is the use of pass statement?\n",
    "\n",
    "The pass statement is used as a placeholder for future code. When the pass statement is executed, nothing happens, but you avoid getting an error when empty code is not allowed. Empty code is not allowed in loops, function definitions, class definitions, or in if statements.\n",
    "\n",
    "Q74. What is the use of range() function?\n",
    "\n",
    "The range() function returns a sequence of numbers, starting from 0 by default, and increments by 1 (by default), and stops before a specified number.\n",
    "\n"
   ]
  },
  {
   "cell_type": "markdown",
   "metadata": {},
   "source": [
    "# Q75. How can you loop over a dictionary\n",
    "\n",
    "You can loop through a dictionary by using a for loop."
   ]
  },
  {
   "cell_type": "code",
   "execution_count": 35,
   "metadata": {},
   "outputs": [
    {
     "name": "stdout",
     "output_type": "stream",
     "text": [
      "1\n",
      "2\n",
      "3\n"
     ]
    }
   ],
   "source": [
    "thisdict={1:\"one\",2:\"two\",3:\"three\"}\n",
    "for x in thisdict:\n",
    "    print(x)"
   ]
  },
  {
   "cell_type": "markdown",
   "metadata": {},
   "source": [
    "# Q76. Write a Python program to find the factorial of a given number.\n"
   ]
  },
  {
   "cell_type": "code",
   "execution_count": 36,
   "metadata": {},
   "outputs": [
    {
     "name": "stdout",
     "output_type": "stream",
     "text": [
      "120\n"
     ]
    }
   ],
   "source": [
    "def fact(num):\n",
    "    \"\"\"This function returns factorial of a number\"\"\"\n",
    "    if(num==1):\n",
    "        return num\n",
    "    else:\n",
    "        return num * fact(num-1)\n",
    "        \n",
    "print(fact(5))    \n",
    "    "
   ]
  },
  {
   "cell_type": "markdown",
   "metadata": {},
   "source": [
    "# Q77. Write a Python program to calculate the simple interest. Formula to calculate simple interest is SI = (P*R*T)/100\n"
   ]
  },
  {
   "cell_type": "code",
   "execution_count": 37,
   "metadata": {},
   "outputs": [
    {
     "name": "stdout",
     "output_type": "stream",
     "text": [
      "10000.0\n"
     ]
    }
   ],
   "source": [
    "def calcSI(p,t,r): \n",
    "    \"\"\"calculates SI\"\"\"\n",
    "    return (p*t*r)/100\n",
    "print(calcSI(25000,4,10))"
   ]
  },
  {
   "cell_type": "markdown",
   "metadata": {},
   "source": [
    "# Q78. Write a Python program to calculate the compound interest. Formula of compound interest is A = P(1+ R/100)^t."
   ]
  },
  {
   "cell_type": "code",
   "execution_count": 38,
   "metadata": {},
   "outputs": [
    {
     "name": "stdout",
     "output_type": "stream",
     "text": [
      "840.0000000000009\n"
     ]
    }
   ],
   "source": [
    "def calcCI(p,t,r):\n",
    "    \"\"\"calculates CI\"\"\"\n",
    "    return ((p*(1+r/100)**t)-p)\n",
    "print(calcCI(4000,2,10))"
   ]
  },
  {
   "cell_type": "markdown",
   "metadata": {},
   "source": [
    "# Q79. Write a Python program to check if a number is prime or not."
   ]
  },
  {
   "cell_type": "code",
   "execution_count": 39,
   "metadata": {},
   "outputs": [
    {
     "name": "stdout",
     "output_type": "stream",
     "text": [
      "[1, 37]\n"
     ]
    },
    {
     "data": {
      "text/plain": [
       "True"
      ]
     },
     "execution_count": 39,
     "metadata": {},
     "output_type": "execute_result"
    }
   ],
   "source": [
    "def isprime(n):\n",
    "    \"\"\"checks if prime\"\"\"\n",
    "    lis=[]\n",
    "    for i in range(1,n+1):\n",
    "        if(n%i==0):\n",
    "            lis.append(i)\n",
    "    print(lis)        \n",
    "    if(lis==[1,n]):\n",
    "        return True\n",
    "    else:\n",
    "        return False\n",
    "isprime(37)    "
   ]
  },
  {
   "cell_type": "markdown",
   "metadata": {},
   "source": [
    "# Q80. Write a Python program to check Armstrong Number."
   ]
  },
  {
   "cell_type": "code",
   "execution_count": 40,
   "metadata": {},
   "outputs": [
    {
     "name": "stdout",
     "output_type": "stream",
     "text": [
      "no, this is not an armstrong num\n"
     ]
    }
   ],
   "source": [
    "def isarmstrong(n):\n",
    "    \"\"\"checks if armstrong\"\"\"\n",
    "    lis=[]\n",
    "    j=n\n",
    "    while(n!=0):\n",
    "        rem=n%10\n",
    "        lis.append(rem)\n",
    "        n=n//10\n",
    "    summ=0\n",
    "    for i in lis:\n",
    "        summ=summ+pow(i,3) \n",
    "    if(summ==j):\n",
    "        print(\"yes, this is an armstrong num\")\n",
    "    else:\n",
    "        print(\"no, this is not an armstrong num\")\n",
    "isarmstrong(171)    "
   ]
  },
  {
   "cell_type": "markdown",
   "metadata": {},
   "source": [
    "# Q81. Write a Python program to find the n-th Fibonacci Number"
   ]
  },
  {
   "cell_type": "code",
   "execution_count": 41,
   "metadata": {},
   "outputs": [
    {
     "data": {
      "text/plain": [
       "13"
      ]
     },
     "execution_count": 41,
     "metadata": {},
     "output_type": "execute_result"
    }
   ],
   "source": [
    "def fib(n):\n",
    "    \"\"\"checks if fibinocci\"\"\"\n",
    "    a=0\n",
    "    b=1\n",
    "    lis=[]\n",
    "    lis.append(a)\n",
    "    lis.append(b)\n",
    "    while(len(lis)<n):\n",
    "        lis.append(a+b)\n",
    "        a,b=lis[-1],lis[-2]\n",
    "    return lis[-1] \n",
    "fib(8)"
   ]
  },
  {
   "cell_type": "markdown",
   "metadata": {},
   "source": [
    "# Q82. Write a Python program to interchange the first and last element in a list.\n"
   ]
  },
  {
   "cell_type": "code",
   "execution_count": 42,
   "metadata": {},
   "outputs": [
    {
     "data": {
      "text/plain": [
       "[4, 2, 3, 1]"
      ]
     },
     "execution_count": 42,
     "metadata": {},
     "output_type": "execute_result"
    }
   ],
   "source": [
    "def listexchg(lis):\n",
    "    \"\"\"exchanges first and last element of list\"\"\"\n",
    "    lis[0],lis[-1]=lis[-1],lis[0]\n",
    "    return lis\n",
    "listexchg([1,2,3,4])"
   ]
  },
  {
   "cell_type": "markdown",
   "metadata": {},
   "source": [
    "# Q83. Write a Python program to swap two elements in a list."
   ]
  },
  {
   "cell_type": "code",
   "execution_count": 43,
   "metadata": {},
   "outputs": [
    {
     "data": {
      "text/plain": [
       "[1, 3, 2, 4]"
      ]
     },
     "execution_count": 43,
     "metadata": {},
     "output_type": "execute_result"
    }
   ],
   "source": [
    "def listexchg(lis,s,e):\n",
    "    \"\"\"exchanges 2 element's indexes\"\"\"\n",
    "    lis[s],lis[e]=lis[e],lis[s]\n",
    "    return lis\n",
    "listexchg([1,2,3,4],1,2)"
   ]
  },
  {
   "cell_type": "markdown",
   "metadata": {},
   "source": [
    "# Q84. Write a Python program to find N largest element from a list."
   ]
  },
  {
   "cell_type": "code",
   "execution_count": 44,
   "metadata": {},
   "outputs": [
    {
     "data": {
      "text/plain": [
       "8"
      ]
     },
     "execution_count": 44,
     "metadata": {},
     "output_type": "execute_result"
    }
   ],
   "source": [
    "def lar(lis):\n",
    "    \"\"\"find max ele in list\"\"\"\n",
    "    return max(lis)\n",
    "lar([1,4,6,8])"
   ]
  },
  {
   "cell_type": "markdown",
   "metadata": {},
   "source": [
    "# Q85. Write a Python program to find cumulative sum of a list."
   ]
  },
  {
   "cell_type": "code",
   "execution_count": 45,
   "metadata": {},
   "outputs": [
    {
     "data": {
      "text/plain": [
       "6"
      ]
     },
     "execution_count": 45,
     "metadata": {},
     "output_type": "execute_result"
    }
   ],
   "source": [
    "def summ(lis):\n",
    "    \"\"\"finds cumulative sum in list\"\"\"\n",
    "    return sum(lis)\n",
    "summ([1,2,3])"
   ]
  },
  {
   "cell_type": "markdown",
   "metadata": {},
   "source": [
    "# Q86. Write a Python program to check if a string is palindrome or not."
   ]
  },
  {
   "cell_type": "code",
   "execution_count": 46,
   "metadata": {},
   "outputs": [
    {
     "data": {
      "text/plain": [
       "True"
      ]
     },
     "execution_count": 46,
     "metadata": {},
     "output_type": "execute_result"
    }
   ],
   "source": [
    "def ispal(s):\n",
    "    \"\"\"checks if string is palindrome\"\"\"\n",
    "    if(s==s[::-1]):\n",
    "        return True\n",
    "    else:\n",
    "        return False\n",
    "ispal(\"malayalam\")    "
   ]
  },
  {
   "cell_type": "markdown",
   "metadata": {},
   "source": [
    "# Q87. Write a Python program to remove i'th element from a string."
   ]
  },
  {
   "cell_type": "code",
   "execution_count": 47,
   "metadata": {},
   "outputs": [
    {
     "data": {
      "text/plain": [
       "'helo'"
      ]
     },
     "execution_count": 47,
     "metadata": {},
     "output_type": "execute_result"
    }
   ],
   "source": [
    "def rem(s,i):\n",
    "    \"\"\"removes i'th ele of string\"\"\"\n",
    "    new=\"\"\n",
    "    for j in range(0,len(s)):\n",
    "        if(j==i):\n",
    "            continue\n",
    "        else:\n",
    "            new+=s[j]\n",
    "    return new\n",
    "rem(\"hello\",3)"
   ]
  },
  {
   "cell_type": "markdown",
   "metadata": {},
   "source": [
    "# Q88. Write a Python program to check if a substring is present in a given string."
   ]
  },
  {
   "cell_type": "code",
   "execution_count": 48,
   "metadata": {},
   "outputs": [
    {
     "data": {
      "text/plain": [
       "False"
      ]
     },
     "execution_count": 48,
     "metadata": {},
     "output_type": "execute_result"
    }
   ],
   "source": [
    "def substr(stri,sub):\n",
    "    \"\"\"checks if substring is present in main string\"\"\"\n",
    "    subl=len(sub)\n",
    "    s=0\n",
    "    e=subl-1\n",
    "    while(e<len(stri)):\n",
    "        if(stri[s:e+1]==sub):\n",
    "            return True\n",
    "        else:\n",
    "            s=s+1\n",
    "            e=e+1\n",
    "    return False\n",
    "substr(\"catratcatmt\",\"mat\")\n"
   ]
  },
  {
   "cell_type": "markdown",
   "metadata": {},
   "source": [
    "# Q89. Write a Python program to find words which are greater than given length k."
   ]
  },
  {
   "cell_type": "code",
   "execution_count": 49,
   "metadata": {},
   "outputs": [
    {
     "data": {
      "text/plain": [
       "['sssssssssss', 'gggggg']"
      ]
     },
     "execution_count": 49,
     "metadata": {},
     "output_type": "execute_result"
    }
   ],
   "source": [
    "def chk(lis,k):\n",
    "    \"\"\"to find words which are greater than given length k\"\"\"\n",
    "    lists=[]\n",
    "    for i in  lis:\n",
    "        if(len(i)>k):\n",
    "            lists.append(i)\n",
    "    return(lists)\n",
    "chk([\"hi\",\"sssssssssss\",\"gggggg\"],3)\n"
   ]
  },
  {
   "cell_type": "markdown",
   "metadata": {},
   "source": [
    "# Q90. Write a Python program to extract unique dictionary values.\n"
   ]
  },
  {
   "cell_type": "code",
   "execution_count": 50,
   "metadata": {},
   "outputs": [
    {
     "data": {
      "text/plain": [
       "['yes', 'hi']"
      ]
     },
     "execution_count": 50,
     "metadata": {},
     "output_type": "execute_result"
    }
   ],
   "source": [
    "def dictionary(d):\n",
    "    \"\"\"to extract unique dictionary val\"\"\"\n",
    "    l=list(d.values())\n",
    "    k=list(set(d.values()))\n",
    "    for i in k:\n",
    "        if(l.count(i)>1):\n",
    "            k.remove(i)\n",
    "    return k\n",
    "dictionary({1:'hi',2:\"go\",3:\"yes\",4:\"go\"})    "
   ]
  },
  {
   "cell_type": "markdown",
   "metadata": {},
   "source": [
    "# Q91. Write a Python program to merge two dictionary."
   ]
  },
  {
   "cell_type": "code",
   "execution_count": 51,
   "metadata": {},
   "outputs": [
    {
     "data": {
      "text/plain": [
       "{1: 'hi', 2: 'go', 3: 'yes', 4: 'go', 'a': [1, 2, 3, 4], 'b': 'great'}"
      ]
     },
     "execution_count": 51,
     "metadata": {},
     "output_type": "execute_result"
    }
   ],
   "source": [
    "def dictionary_merge(d1,d2):\n",
    "    \"\"\"to merge 2 dictionaries\"\"\"\n",
    "    d1.update(d2)\n",
    "    return d1\n",
    "dictionary_merge({1:'hi',2:\"go\",3:\"yes\",4:\"go\"},{\"a\":[1,2,3,4],\"b\":\"great\"})"
   ]
  },
  {
   "cell_type": "markdown",
   "metadata": {},
   "source": [
    "# Q92. Write a Python program to convert a list of tuples into dictionary"
   ]
  },
  {
   "cell_type": "code",
   "execution_count": 52,
   "metadata": {},
   "outputs": [
    {
     "data": {
      "text/plain": [
       "{'Sachin': 10, 'MSD': 7, 'Kohli': 18, 'Rohit': 45}"
      ]
     },
     "execution_count": 52,
     "metadata": {},
     "output_type": "execute_result"
    }
   ],
   "source": [
    "def conv_tup(tup):\n",
    "    \"\"\"to convert tuples to dictionary\"\"\"\n",
    "    d={}\n",
    "    for i,j in tup:\n",
    "        d[i]=j\n",
    "    return d  \n",
    "conv_tup([('Sachin', 10), ('MSD', 7), ('Kohli', 18), ('Rohit', 45)])"
   ]
  },
  {
   "cell_type": "markdown",
   "metadata": {},
   "source": [
    "# Q93. Write a Python program to create a list of tuples from given list having number and its cube in each tuple."
   ]
  },
  {
   "cell_type": "code",
   "execution_count": 53,
   "metadata": {},
   "outputs": [
    {
     "data": {
      "text/plain": [
       "[(2, 8), (3, 27), (4, 64)]"
      ]
     },
     "execution_count": 53,
     "metadata": {},
     "output_type": "execute_result"
    }
   ],
   "source": [
    "def cube_tup(lists):\n",
    "    \"\"\"to cube elements in a list\"\"\"\n",
    "    k=[]\n",
    "    for i in lists:\n",
    "        k.append((i,i**3))\n",
    "    return k\n",
    "cube_tup([2,3,4])"
   ]
  },
  {
   "cell_type": "markdown",
   "metadata": {},
   "source": [
    "# Q94. Write a Python program to get all combinations of 2 tuples."
   ]
  },
  {
   "cell_type": "code",
   "execution_count": 54,
   "metadata": {},
   "outputs": [
    {
     "data": {
      "text/plain": [
       "[(7, 7), (7, 7), (7, 8), (8, 7), (2, 7), (7, 2), (2, 8), (8, 2)]"
      ]
     },
     "execution_count": 54,
     "metadata": {},
     "output_type": "execute_result"
    }
   ],
   "source": [
    "def tup_comb(t1,t2):\n",
    "    \"\"\"prints all combinations of elements as tuples\"\"\"\n",
    "    lis=[]\n",
    "    for i in t1:\n",
    "        for j in t2:\n",
    "            lis.append((i,j))\n",
    "            lis.append((j,i))\n",
    "    return lis\n",
    "tup_comb((7,2),(7,8))\n",
    "            "
   ]
  },
  {
   "cell_type": "markdown",
   "metadata": {},
   "source": [
    "# Q95. Write a Python program to sort a list of tuples by second item."
   ]
  },
  {
   "cell_type": "code",
   "execution_count": 55,
   "metadata": {},
   "outputs": [
    {
     "data": {
      "text/plain": [
       "[('Geeks', 5), ('for', 24), ('Geeks', 30)]"
      ]
     },
     "execution_count": 55,
     "metadata": {},
     "output_type": "execute_result"
    }
   ],
   "source": [
    "def tup_comb(t):\n",
    "    \"\"\"to sort tuple by second item\"\"\"\n",
    "    lst=len(t)\n",
    "    for i in range (0,lst):\n",
    "        for j in range(0,lst-i-1):\n",
    "            if(t[j][1]>t[j+1][1]):\n",
    "                temp=t[j]\n",
    "                t[j]=t[j+1]\n",
    "                t[j+1]=temp\n",
    "                \n",
    "    return t\n",
    "tup_comb([('for', 24), ('Geeks', 5), ('Geeks', 30)])"
   ]
  },
  {
   "cell_type": "markdown",
   "metadata": {},
   "source": [
    "# Q96. Write a python program to print below pattern\n"
   ]
  },
  {
   "cell_type": "code",
   "execution_count": 56,
   "metadata": {},
   "outputs": [
    {
     "name": "stdout",
     "output_type": "stream",
     "text": [
      "* \r\n",
      "* * \r\n",
      "* * * \r\n",
      "* * * * \r\n",
      "* * * * * \r\n"
     ]
    }
   ],
   "source": [
    "def pat1(n):\n",
    "    \"pattern printing\"\n",
    "    for i in range(0,n):\n",
    "        for j in range(0,i+1):\n",
    "            print(\"* \",end=\"\")\n",
    "        print(\"\\r\")   \n",
    "pat1(5)        "
   ]
  },
  {
   "cell_type": "markdown",
   "metadata": {},
   "source": [
    "# Q97. Write a python program to print below pattern."
   ]
  },
  {
   "cell_type": "code",
   "execution_count": 57,
   "metadata": {},
   "outputs": [
    {
     "name": "stdout",
     "output_type": "stream",
     "text": [
      "    *\r\n",
      "   **\r\n",
      "  ***\r\n",
      " ****\r\n",
      "*****\r\n"
     ]
    }
   ],
   "source": [
    "def pat2(n):\n",
    "    \"\"\"pattern printing\"\"\"\n",
    "    for i in range(0,n):\n",
    "        print(\" \"*(n-i-1),end=\"\")\n",
    "        for j in range(0,i+1):\n",
    "            print(\"*\",end=\"\")\n",
    "        print(\"\\r\")   \n",
    "pat2(5) "
   ]
  },
  {
   "cell_type": "markdown",
   "metadata": {},
   "source": [
    "# Q98. Write a python program to print below pattern."
   ]
  },
  {
   "cell_type": "code",
   "execution_count": 58,
   "metadata": {},
   "outputs": [
    {
     "name": "stdout",
     "output_type": "stream",
     "text": [
      "    * \r\n",
      "   * * \r\n",
      "  * * * \r\n",
      " * * * * \r\n",
      "* * * * * \r\n"
     ]
    }
   ],
   "source": [
    "def pat3(n):\n",
    "    \"\"\"pattern printing\"\"\"\n",
    "    for i in range(0,n):\n",
    "        print(\" \"*(n-i-1),end=\"\")\n",
    "        for j in range(0,i+1):\n",
    "            print(\"* \",end=\"\")\n",
    "        print(\"\\r\")   \n",
    "pat3(5) "
   ]
  },
  {
   "cell_type": "markdown",
   "metadata": {},
   "source": [
    "# Q99. Write a python program to print below pattern."
   ]
  },
  {
   "cell_type": "code",
   "execution_count": 59,
   "metadata": {},
   "outputs": [
    {
     "name": "stdout",
     "output_type": "stream",
     "text": [
      "1  \r\n",
      "1  2  \r\n",
      "1  2  3  \r\n",
      "1  2  3  4  \r\n",
      "1  2  3  4  5  \r\n"
     ]
    }
   ],
   "source": [
    "def pat4(n):\n",
    "    \"\"\"pattern printing\"\"\"\n",
    "    for i in range(1,n+1):\n",
    "        for j in range(1,i+1):\n",
    "            print(j,\" \",end=\"\")\n",
    "        print(\"\\r\")   \n",
    "pat4(5)   "
   ]
  },
  {
   "cell_type": "markdown",
   "metadata": {},
   "source": [
    "# Q100. Write a python program to print below pattern."
   ]
  },
  {
   "cell_type": "code",
   "execution_count": 60,
   "metadata": {},
   "outputs": [
    {
     "name": "stdout",
     "output_type": "stream",
     "text": [
      "A  \r\n",
      "B  B  \r\n",
      "C  C  C  \r\n",
      "D  D  D  D  \r\n",
      "E  E  E  E  E  \r\n"
     ]
    }
   ],
   "source": [
    "def pat5(n):\n",
    "    \"\"\"pattern printing\"\"\"\n",
    "    for i in range(65,65+n):\n",
    "        for j in range(64,i):\n",
    "            print(chr(i),\" \",end=\"\")\n",
    "        print(\"\\r\")   \n",
    "pat5(5) "
   ]
  },
  {
   "cell_type": "code",
   "execution_count": null,
   "metadata": {},
   "outputs": [],
   "source": []
  },
  {
   "cell_type": "code",
   "execution_count": null,
   "metadata": {},
   "outputs": [],
   "source": []
  },
  {
   "cell_type": "code",
   "execution_count": null,
   "metadata": {},
   "outputs": [],
   "source": []
  },
  {
   "cell_type": "code",
   "execution_count": null,
   "metadata": {},
   "outputs": [],
   "source": []
  },
  {
   "cell_type": "code",
   "execution_count": null,
   "metadata": {},
   "outputs": [],
   "source": []
  },
  {
   "cell_type": "code",
   "execution_count": null,
   "metadata": {},
   "outputs": [],
   "source": []
  },
  {
   "cell_type": "code",
   "execution_count": null,
   "metadata": {},
   "outputs": [],
   "source": []
  },
  {
   "cell_type": "code",
   "execution_count": null,
   "metadata": {},
   "outputs": [],
   "source": []
  },
  {
   "cell_type": "code",
   "execution_count": null,
   "metadata": {},
   "outputs": [],
   "source": []
  },
  {
   "cell_type": "code",
   "execution_count": null,
   "metadata": {},
   "outputs": [],
   "source": []
  },
  {
   "cell_type": "code",
   "execution_count": null,
   "metadata": {},
   "outputs": [],
   "source": []
  },
  {
   "cell_type": "code",
   "execution_count": null,
   "metadata": {},
   "outputs": [],
   "source": []
  },
  {
   "cell_type": "code",
   "execution_count": null,
   "metadata": {},
   "outputs": [],
   "source": []
  },
  {
   "cell_type": "code",
   "execution_count": null,
   "metadata": {},
   "outputs": [],
   "source": []
  }
 ],
 "metadata": {
  "kernelspec": {
   "display_name": "Python 3",
   "language": "python",
   "name": "python3"
  },
  "language_info": {
   "codemirror_mode": {
    "name": "ipython",
    "version": 3
   },
   "file_extension": ".py",
   "mimetype": "text/x-python",
   "name": "python",
   "nbconvert_exporter": "python",
   "pygments_lexer": "ipython3",
   "version": "3.7.4"
  }
 },
 "nbformat": 4,
 "nbformat_minor": 2
}
