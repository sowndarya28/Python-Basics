{
 "cells": [
  {
   "cell_type": "markdown",
   "metadata": {},
   "source": [
    "Q1. Why do we call Python as a general purpose and high-level programming language?\n",
    "\n",
    "Python has a higher level of abstraction from the computer, and focuses more on the programming logic rather than the underlying hardware components such as memory addressing and register utilization. It is a more user friendly language. The synatax is easier to learn implement and understand. Hence it is called as general purpose and high-level programming language.\n",
    "\n",
    "Q2. Why is Python called a dynamically typed language?\n",
    "\n",
    "Python does not have any problem even if we don't declare the type of variable. It states the kind of variable in the runtime of the program. Python also take cares of the memory management which is crucial in programming. So, Python is a dynamically typed language.\n",
    "\n",
    "Q3. List some pros and cons of Python programming language?\n",
    "\n",
    "Pros\n",
    "\n",
    "a) Beginner-Friendly \n",
    "Python is an excellent platform for beginners who want to step into coding. This programming language is easy to learn, understand and code as it does not include too many technicalities\n",
    "\n",
    "b) Extensive Libraries \n",
    "Python features an extensive set of libraries and contains code for various purposes like documentation-generation, regular expressions, web-browsers, unit-testing, CGI, databases, image manipulation, etc. Hence, it eliminates the need to write the complete code manually.\n",
    "\n",
    "c)IOT Opportunities\n",
    "Since Python forms the basis of new platforms like Raspberry Pi, it finds the future bright for the Internet Of Things.\n",
    "\n",
    "d)Machine Learning\n",
    "Python is an excellent choice when your business needs web projects to be integrated with Machine Learning algorithms. Web Projects that require Python use it because it provides rich libraries, making it easier for the developers to work with data.\n",
    "\n",
    "Cons\n",
    "\n",
    "a)Slower than Compiled Languages\n",
    "Python is slow compared to other non-compiled languages as it requires a lot of computational power. So, this is the thing that you need to look at before choosing Python.\n",
    "\n",
    "b)Python’s Memory Consumption and Garbage Collection\n",
    "Python language comes with high memory usage, and the high memory consumption should be tackled carefully during the project. It uses reference counting in its garbage collection, which often leads to potential memory losses.\n",
    "\n",
    "c)Python is Dynamically Typed\n",
    "Developers working in Data Science and Machine Learning projects prefer statically-typed language over dynamically typed language. The reason is that the statically typed language potentially minimizes a lot of errors and bugs in the system.\n",
    "\n",
    "Q4. In what all domains can we use Python?\n",
    "\n",
    "Machine learning / Artificial intelligence\n",
    "Desktop GUI\n",
    "Data analytics and data visualization \n",
    "Web development\n",
    "Game development\n",
    "Mobile app development\n",
    "Embedded systems\n",
    "\n",
    "Q5. What are variable and how can we declare them?\n",
    "\n",
    " Variables are the basic unit of storage in a programming language. These variables consist of a data type, the variable name, and the value to be assigned to the variable.\n",
    " \n",
    "Python has no command for declaring a variable. A variable is created the moment you first assign a value to it.\n",
    "\n",
    "Q6. How can we take an input from the user in Python?\n",
    "Input can be taken from thr user by using the function 'input()'. It needs to be type casted to required type.\n",
    "\n",
    "Q7. What is the default datatype of the value that has been taken as an input using input() function?\n",
    "String\n",
    "\n",
    "Q8. What is type casting?\n",
    "\n",
    "When we convert one data type to another its called type casting.\n",
    "\n",
    "Q9. Can we take more than one input from the user using single input() function? If yes, how? If no, why?\n",
    "\n",
    "Yes we can.\n",
    "Using List Comprehension\n",
    "Taking multiple inputs in a single line  and type casting using list() function.\n",
    "x = list(map(int, input(\"Enter multiple values: \"). split()))\n",
    "print(\"List of students: \", x)\n",
    "\n",
    "Q10. What are keywords?\n",
    "\n",
    "Keywords are reserved words in Python that are used to trigger specific tasks.\n",
    "\n",
    "Q11. Can we use keywords as a variable? Support your answer with reason.\n",
    "\n",
    "We cannot use a keyword as a variable name, function name, or any other identifier since these keywords each hold a special meaning.\n",
    "\n",
    "Q12. What is indentation? What's the use of indentaion in Python?\n",
    "\n",
    "Indentation refers to the spaces at the beginning of a code line. Where as in other programming languages the indentation in code is for readability only, the indentation in Python is very important. Python uses indentation to indicate a block of code.\n",
    "\n",
    "Q13. How can we throw some output in Python?\n",
    "\n",
    "using print\n",
    "\n",
    "Q14. What are operators in Python?\n",
    "\n",
    "An operator in Python is a character that tells the compiler to perform a specific task on the quantity operand.\n",
    "\n",
    "Q15. What is difference between / and // operators?\n",
    "\n",
    "both are division operators\n",
    "\n",
    "/ - returns floating value if quoient is a decimal\n",
    "\n",
    "// - returns integer value even if quoient is a decimal\n",
    "\n",
    "\n",
    "Q18. What are boolean operator?\n",
    "\n",
    "They return true or false after evaluating a expression.\n",
    "\n",
    "Q20. What are conditional statements in Python?\n",
    "\n",
    "A conditional statement as the name suggests itself, is used to handle conditions in your program.\n",
    "\n",
    "Q21. What is use of 'if', 'elif' and 'else' keywords?\n",
    "\n",
    "Conditional statements guide the program while making decisions based on the conditions encountered by the program.'if', 'elif' and 'else' keywords are used for this purpose\n",
    "\n",
    "\n",
    "\n"
   ]
  },
  {
   "cell_type": "markdown",
   "metadata": {},
   "source": [
    "# Q16. Write a code that gives following as an output.\n",
    "\n",
    "iNeuroniNeuroniNeuroniNeuron\n"
   ]
  },
  {
   "cell_type": "code",
   "execution_count": 13,
   "metadata": {},
   "outputs": [
    {
     "data": {
      "text/plain": [
       "'iNeuroniNeuroniNeuron'"
      ]
     },
     "execution_count": 13,
     "metadata": {},
     "output_type": "execute_result"
    }
   ],
   "source": [
    "def strmul(val):\n",
    "    \"\"\"string multiplication thrice\"\"\"\n",
    "    return val*3\n",
    "strmul(\"iNeuron\")"
   ]
  },
  {
   "cell_type": "markdown",
   "metadata": {},
   "source": [
    "# Q17. Write a code to take a number as an input from the user and check if the number is odd or even."
   ]
  },
  {
   "cell_type": "code",
   "execution_count": 12,
   "metadata": {},
   "outputs": [
    {
     "data": {
      "text/plain": [
       "'The given number is even'"
      ]
     },
     "execution_count": 12,
     "metadata": {},
     "output_type": "execute_result"
    }
   ],
   "source": [
    "def oddeve(val):\n",
    "    \"\"\"code to check if number is odd or even\"\"\"\n",
    "    if(val%2==0):\n",
    "        return (\"The given number is even\")\n",
    "    else:\n",
    "        return(\" The given number is odd\")\n",
    "oddeve(2)"
   ]
  },
  {
   "cell_type": "markdown",
   "metadata": {},
   "source": [
    "# Q22. Write a code to take the age of person as an input and if age >= 18 display \"I can vote\". If age is < 18 display \"I can't vote\".\n",
    "\n"
   ]
  },
  {
   "cell_type": "code",
   "execution_count": 10,
   "metadata": {},
   "outputs": [
    {
     "data": {
      "text/plain": [
       "'I can vote'"
      ]
     },
     "execution_count": 10,
     "metadata": {},
     "output_type": "execute_result"
    }
   ],
   "source": [
    "def if18(val):\n",
    "    \"\"\"checks if value of age is greater or lesser than 18\"\"\"\n",
    "    if(val>=18):\n",
    "        return (\"I can vote\")\n",
    "    else:\n",
    "        return(\"I can't vote\")\n",
    "if18(29)"
   ]
  },
  {
   "cell_type": "markdown",
   "metadata": {},
   "source": [
    "# Q23. Write a code that displays the sum of all the even numbers from the given list.\n",
    "\n",
    "numbers = [12, 75, 150, 180, 145, 525, 50]"
   ]
  },
  {
   "cell_type": "code",
   "execution_count": 7,
   "metadata": {},
   "outputs": [
    {
     "data": {
      "text/plain": [
       "392"
      ]
     },
     "execution_count": 7,
     "metadata": {},
     "output_type": "execute_result"
    }
   ],
   "source": [
    "def lisSum(lis):\n",
    "    \"\"\"displays sum of even numbers in list\"\"\"\n",
    "    g=[]\n",
    "    for i in lis:\n",
    "        if(i%2==0):\n",
    "            g.append(i)\n",
    "            \n",
    "    return sum(g)\n",
    "lisSum( [12, 75, 150, 180, 145, 525, 50])"
   ]
  },
  {
   "cell_type": "markdown",
   "metadata": {},
   "source": [
    "# Q24. Write a code to take 3 numbers as an input from the user and display the greatest no as output."
   ]
  },
  {
   "cell_type": "code",
   "execution_count": 33,
   "metadata": {},
   "outputs": [
    {
     "name": "stdout",
     "output_type": "stream",
     "text": [
      "Enter first number: 1\n",
      "Enter second number: 2\n",
      "Enter third number: 3\n",
      "3\n"
     ]
    }
   ],
   "source": [
    "a=int(input(\"Enter first number: \"))\n",
    "b=int(input(\"Enter second number: \"))\n",
    "c=int(input(\"Enter third number: \"))\n",
    "print(max([a,b,c]))\n"
   ]
  },
  {
   "cell_type": "markdown",
   "metadata": {},
   "source": [
    "# Q25. Write a program to display only those numbers from a list that satisfy the following conditions\n",
    "\n",
    "The number must be divisible by five\n",
    "\n",
    "If the number is greater than 150, then skip it and move to the next number\n",
    "\n",
    "If the number is greater than 500, then stop the loop\n",
    "\n",
    "numbers = [12, 75, 150, 180, 145, 525, 50]"
   ]
  },
  {
   "cell_type": "code",
   "execution_count": 11,
   "metadata": {},
   "outputs": [
    {
     "data": {
      "text/plain": [
       "[55]"
      ]
     },
     "execution_count": 11,
     "metadata": {},
     "output_type": "execute_result"
    }
   ],
   "source": [
    "def num(lis):\n",
    "    \"\"\"filter function\"\"\"\n",
    "    g=[]\n",
    "    for i in lis:\n",
    "        if(i>500):\n",
    "            return g\n",
    "        if(i<150 and i%5==0):\n",
    "            g.append(i)\n",
    "    return g        \n",
    "num([1,2,3,4,55,600,65])            "
   ]
  },
  {
   "cell_type": "markdown",
   "metadata": {},
   "source": [
    "# Q19. What will the output of the following?\n",
    "```\n",
    "1 or 0\n",
    "\n",
    "0 and 0\n",
    "\n",
    "True and False and True\n",
    "\n",
    "1 or 0 or 0"
   ]
  },
  {
   "cell_type": "code",
   "execution_count": 1,
   "metadata": {},
   "outputs": [
    {
     "data": {
      "text/plain": [
       "1"
      ]
     },
     "execution_count": 1,
     "metadata": {},
     "output_type": "execute_result"
    }
   ],
   "source": [
    "1 or 0"
   ]
  },
  {
   "cell_type": "code",
   "execution_count": 2,
   "metadata": {},
   "outputs": [
    {
     "data": {
      "text/plain": [
       "0"
      ]
     },
     "execution_count": 2,
     "metadata": {},
     "output_type": "execute_result"
    }
   ],
   "source": [
    "0 and 0"
   ]
  },
  {
   "cell_type": "code",
   "execution_count": 3,
   "metadata": {},
   "outputs": [
    {
     "data": {
      "text/plain": [
       "False"
      ]
     },
     "execution_count": 3,
     "metadata": {},
     "output_type": "execute_result"
    }
   ],
   "source": [
    "True and False and True"
   ]
  },
  {
   "cell_type": "code",
   "execution_count": 4,
   "metadata": {},
   "outputs": [
    {
     "data": {
      "text/plain": [
       "1"
      ]
     },
     "execution_count": 4,
     "metadata": {},
     "output_type": "execute_result"
    }
   ],
   "source": [
    "1 or 0 or 0"
   ]
  },
  {
   "cell_type": "code",
   "execution_count": null,
   "metadata": {},
   "outputs": [],
   "source": []
  }
 ],
 "metadata": {
  "kernelspec": {
   "display_name": "Python 3",
   "language": "python",
   "name": "python3"
  },
  "language_info": {
   "codemirror_mode": {
    "name": "ipython",
    "version": 3
   },
   "file_extension": ".py",
   "mimetype": "text/x-python",
   "name": "python",
   "nbconvert_exporter": "python",
   "pygments_lexer": "ipython3",
   "version": "3.7.4"
  }
 },
 "nbformat": 4,
 "nbformat_minor": 2
}
